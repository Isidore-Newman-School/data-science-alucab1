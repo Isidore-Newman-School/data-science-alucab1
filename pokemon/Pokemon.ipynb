{
 "cells": [
  {
   "cell_type": "markdown",
   "metadata": {},
   "source": [
    "#  Pokemon Data"
   ]
  },
  {
   "cell_type": "markdown",
   "metadata": {},
   "source": [
    "# setup"
   ]
  },
  {
   "cell_type": "code",
   "execution_count": 82,
   "metadata": {},
   "outputs": [
    {
     "name": "stdout",
     "output_type": "stream",
     "text": [
      "   #        Name Type_1  Type_2  Total  HP  Attack  Defense  Sp. Atk  Sp. Def  \\\n",
      "0  1   Bulbasaur  Grass  Poison    318  45      49       49       65       65   \n",
      "1  2     Ivysaur  Grass  Poison    405  60      62       63       80       80   \n",
      "2  3    Venusaur  Grass  Poison    525  80      82       83      100      100   \n",
      "3  4  Charmander   Fire     NaN    309  39      52       43       60       50   \n",
      "4  5  Charmeleon   Fire     NaN    405  58      64       58       80       65   \n",
      "\n",
      "   Speed  Generation  Legendary  \n",
      "0     45           1      False  \n",
      "1     60           1      False  \n",
      "2     80           1      False  \n",
      "3     65           1      False  \n",
      "4     80           1      False  \n",
      "       #                 Name   Type_1  Type_2  Total   HP  Attack  Defense  \\\n",
      "744  718      Zygarde50% Form   Dragon  Ground    600  108     100      121   \n",
      "745  719              Diancie     Rock   Fairy    600   50     100      150   \n",
      "746  720  HoopaHoopa Confined  Psychic   Ghost    600   80     110       60   \n",
      "747  720   HoopaHoopa Unbound  Psychic    Dark    680   80     160       60   \n",
      "748  721            Volcanion     Fire   Water    600   80     110      120   \n",
      "\n",
      "     Sp. Atk  Sp. Def  Speed  Generation  Legendary  \n",
      "744       81       95     95           6       True  \n",
      "745      100      150     50           6       True  \n",
      "746      150      130     70           6       True  \n",
      "747      170      130     80           6       True  \n",
      "748      130       90     70           6       True  \n"
     ]
    }
   ],
   "source": [
    "# Importing necessary libraries\n",
    "import pandas as pd\n",
    "import numpy as np\n",
    "import matplotlib.pyplot as plt\n",
    "import math\n",
    "import array as arr\n",
    "from sklearn.metrics import r2_score\n",
    "from scipy.stats import linregress\n",
    "\n",
    "# Getting and setting up dataset\n",
    "df = pd.read_csv('Pokemon_nomega.csv')\n",
    "avg = df.Total.mean()\n",
    "#df.set_index('#', inplace=True)\n",
    "\n",
    "%matplotlib notebook\n",
    "%matplotlib inline\n",
    "\n",
    "#print first 5 items of each column in the dataset\n",
    "print(df.head())\n",
    "print(df.tail())"
   ]
  },
  {
   "cell_type": "markdown",
   "metadata": {},
   "source": [
    "# Legendary vs Non-Legendary"
   ]
  },
  {
   "cell_type": "code",
   "execution_count": 73,
   "metadata": {},
   "outputs": [
    {
     "name": "stdout",
     "output_type": "stream",
     "text": [
      "Base Stats for All Pokemon\n",
      "Base Stats for Legendaries\n"
     ]
    },
    {
     "data": {
      "text/plain": [
       "array([<matplotlib.axes._subplots.AxesSubplot object at 0x000001DE185154E0>],\n",
       "      dtype=object)"
      ]
     },
     "execution_count": 73,
     "metadata": {},
     "output_type": "execute_result"
    },
    {
     "data": {
      "image/png": "[encoded data removed]",
      "text/plain": [
       "<Figure size 432x288 with 2 Axes>"
      ]
     },
     "metadata": {
      "needs_background": "light"
     },
     "output_type": "display_data"
    }
   ],
   "source": [
    "fig, axes = plt.subplots(nrows=2, ncols=1)\n",
    "\n",
    "df_Legend = df.groupby('Legendary')\n",
    "\n",
    "\n",
    "legend_count = 0\n",
    "for i in df.Legendary:\n",
    "    if i == True:\n",
    "        legend_count += 1\n",
    "\n",
    "print(\"Base Stats for All Pokemon\")\n",
    "df_Legend.head(len(df.Name)-legend_count).hist(column = 'Total', ax=axes[0])\n",
    "print(\"Base Stats for Legendaries\")\n",
    "df_Legend.tail(legend_count).hist(column = 'Total', ax=axes[1])\n",
    "    "
   ]
  },
  {
   "cell_type": "markdown",
   "metadata": {},
   "source": [
    "# Creating a Dataframe for Each Type"
   ]
  },
  {
   "cell_type": "code",
   "execution_count": 74,
   "metadata": {},
   "outputs": [],
   "source": [
    "# Type Index\n",
    "# normal: 0\n",
    "# Fight: 1\n",
    "# Flying: 2\n",
    "# Poison: 3\n",
    "# Ground: 4\n",
    "# Rock: 5\n",
    "# Bug: 6\n",
    "# Ghost: 7\n",
    "# Steel: 8\n",
    "# Fire: 9\n",
    "# Water: 10\n",
    "# Grass: 11\n",
    "# Electric: 12\n",
    "# Psycic: 13\n",
    "# Ice: 14\n",
    "# Dragon: 15\n",
    "# Dark: 16\n",
    "# Fairy: 17\n",
    "\n",
    "#df_type = df.groupby('Type 1')\n",
    "#print(df_type.head())\n",
    "\n",
    "df_index = pd.read_csv('Pokemon_typeindex.csv')\n",
    "\n",
    "types = [None] * 18\n",
    "df_Adj = df.copy()\n",
    "for i in range(len(df.Name)):\n",
    "    df_Adj.loc[i, 'Name'] = len(df['Name'][i])\n",
    "    \n",
    "for i in range(18):\n",
    "    types[i] = df_Adj.copy(deep=True)\n",
    "    for k in range(len(df_Adj.Type_1)-1, -1, -1):\n",
    "        if (df_index.Type_1[k] != i and df_index.Type_2[k] != i):\n",
    "            types[i] = types[i].drop([k])"
   ]
  },
  {
   "cell_type": "markdown",
   "metadata": {},
   "source": [
    "# Compare Types"
   ]
  },
  {
   "cell_type": "code",
   "execution_count": 75,
   "metadata": {
    "scrolled": false
   },
   "outputs": [],
   "source": [
    "def compare_types(col):\n",
    "    tps = [None]*18\n",
    "    for i in range(18):\n",
    "        k = 0\n",
    "        printed = False\n",
    "        while printed == False:\n",
    "            if df_index.Type_1[k] == i:\n",
    "                tps[i] = [str(types[i].at[k, 'Type_1'] + \" Average \" +  col + \" = \"), types[i][col].mean()]\n",
    "                printed = True\n",
    "            k += 1\n",
    "    high = 0\n",
    "\n",
    "    # Selection Sort to order printing of types based on [col]\n",
    "    for idx in range(len(tps)):\n",
    "        min_idx = idx\n",
    "        for j in range( idx +1, len(tps)):\n",
    "            if tps[min_idx][1] > tps[j][1]:\n",
    "                min_idx = j\n",
    "    # Swap the minimum value with the compared value\n",
    "\n",
    "        tps[idx], tps[min_idx] = tps[min_idx], tps[idx]      \n",
    "\n",
    "    for i in range(18):\n",
    "        print (tps[i][0] + str(round(tps[i][1], 3)))"
   ]
  },
  {
   "cell_type": "code",
   "execution_count": 76,
   "metadata": {
    "scrolled": true
   },
   "outputs": [
    {
     "name": "stdout",
     "output_type": "stream",
     "text": [
      "Poison Average Name = 7.322\n",
      "Rock Average Name = 7.455\n",
      "Fairy Average Name = 7.571\n",
      "Dark Average Name = 7.711\n",
      "Normal Average Name = 7.724\n",
      "Water Average Name = 7.792\n",
      "Psychic Average Name = 7.949\n",
      "Bug Average Name = 8.044\n",
      "Ice  Average Name = 8.083\n",
      "Fire Average Name = 8.19\n",
      "Ground Average Name = 8.194\n",
      "Dragon Average Name = 8.22\n",
      "Steel Average Name = 8.326\n",
      "Flying Average Name = 8.326\n",
      "Fighting Average Name = 8.435\n",
      "Electric Average Name = 8.771\n",
      "Grass Average Name = 9.022\n",
      "Ghost Average Name = 11.209\n"
     ]
    }
   ],
   "source": [
    "compare_types('Name')"
   ]
  },
  {
   "cell_type": "markdown",
   "metadata": {},
   "source": [
    "# Compare Stats"
   ]
  },
  {
   "cell_type": "code",
   "execution_count": 77,
   "metadata": {},
   "outputs": [],
   "source": [
    "def compare_stats(Stat_1, Stat_2, show):\n",
    "    df_Adj = df.copy()\n",
    "    if (Stat_1 == '#' or Stat_2 == '#'):\n",
    "        df_Adj[Stat_1] = df[Stat_1]\n",
    "        df_Adj[Stat_2] = df[Stat_2]\n",
    "        if (Stat_1 == 'Name'):\n",
    "            for i in range(len(df.Name)):\n",
    "                df_Adj.loc[i, 'Name'] = len(df['Name'][i])\n",
    "        elif (Stat_2 == 'Name'):\n",
    "            for i in range(len(df.Name)):\n",
    "                df_Adj.loc[i, 'Name'] = len(df['Name'][i])\n",
    "    else:\n",
    "        if (Stat_1 == 'Name'):\n",
    "            for i in range(len(df.Name)):\n",
    "                df_Adj.loc[i, 'Name'] = len(df['Name'][i])\n",
    "            df_Adj[Stat_2] = df[Stat_2]/df['Total']*avg\n",
    "        elif (Stat_2 == 'Name'):\n",
    "            df_Adj[Stat_1] = df[Stat_1]/df['Total']*avg\n",
    "            for i in range(len(df.Name)):\n",
    "                df_Adj.loc[i, 'Name'] = len(df['Name'][i])\n",
    "        else:\n",
    "            df_Adj[Stat_1] = df[Stat_1]/df['Total']*avg\n",
    "            df_Adj[Stat_2] = df[Stat_2]/df['Total']*avg\n",
    "    \n",
    "\n",
    "    # plot the original scatterplot and the LSRL\n",
    "    if show:\n",
    "        # get a vector of coefficents which minimize the error squared (function for the LSRL)\n",
    "        fit = np.polyfit(df_Adj[Stat_1],df_Adj[Stat_2], 1)\n",
    "\n",
    "        #  fit[0] represents the slope and fit[1] represents the y intercept \n",
    "        print('Equation: y = '+str(round(fit[0], 2))+'x + '+str(round(fit[1], 2)))\n",
    "\n",
    "        # calculate the y values based on the coefficients from the model\n",
    "        r_x, r_y = zip(*((i, i*fit[0] + fit[1]) for i in df_Adj[Stat_1]))\n",
    "    \n",
    "        # put LSRL points into a data frame\n",
    "        lm_original_plot = pd.DataFrame({\n",
    "        Stat_1 : r_x,\n",
    "        Stat_2 : r_y\n",
    "    })\n",
    "    \n",
    "        # setup axes so that the LSRL and the scatterplot show up on the same graph\n",
    "        fig, axes = plt.subplots()\n",
    "        \n",
    "        # setup axes so that the LSRL and the scatterplot show up on the same graph\n",
    "        fig, axes = plt.subplots()\n",
    "        \n",
    "        df_Adj.plot(x=Stat_1, y=Stat_2, kind = 'scatter', ax = axes, title=Stat_1 + ' vs. ' + Stat_2)\n",
    "        lm_original_plot.plot(x=Stat_1, y=Stat_2, kind = 'line', ax=axes, color = 'red')\n",
    "        linregress(df_Adj[Stat_1], df_Adj[Stat_2])\n",
    "        plt.show()\n",
    "    return (linregress(df_Adj[Stat_1], df_Adj[Stat_2]))\n",
    "    "
   ]
  },
  {
   "cell_type": "code",
   "execution_count": 80,
   "metadata": {
    "scrolled": true
   },
   "outputs": [
    {
     "name": "stdout",
     "output_type": "stream",
     "text": [
      "Name : Name\n",
      "Name : Total\n",
      "Name : HP\n",
      "Name : Attack\n",
      "Name : Defense\n",
      "Name : Sp. Atk\n",
      "Name : Sp. Def\n",
      "Name : Speed\n",
      "Total : Name\n",
      "Total : Total\n",
      "Total : HP\n",
      "Total : Attack\n",
      "Total : Defense\n",
      "Total : Sp. Atk\n",
      "Total : Sp. Def\n",
      "Total : Speed\n",
      "HP : Name\n",
      "HP : Total\n",
      "HP : HP\n",
      "HP : Attack\n",
      "HP : Defense\n",
      "HP : Sp. Atk\n",
      "HP : Sp. Def\n",
      "HP : Speed\n",
      "Attack : Name\n",
      "Attack : Total\n",
      "Attack : HP\n",
      "Attack : Attack\n",
      "Attack : Defense\n",
      "Attack : Sp. Atk\n",
      "Attack : Sp. Def\n",
      "Attack : Speed\n",
      "Defense : Name\n",
      "Defense : Total\n",
      "Defense : HP\n",
      "Defense : Attack\n",
      "Defense : Defense\n",
      "Defense : Sp. Atk\n",
      "Defense : Sp. Def\n",
      "Defense : Speed\n",
      "Sp. Atk : Name\n",
      "Sp. Atk : Total\n",
      "Sp. Atk : HP\n",
      "Sp. Atk : Attack\n",
      "Sp. Atk : Defense\n",
      "Sp. Atk : Sp. Atk\n",
      "Sp. Atk : Sp. Def\n",
      "Sp. Atk : Speed\n",
      "Sp. Def : Name\n",
      "Sp. Def : Total\n",
      "Sp. Def : HP\n",
      "Sp. Def : Attack\n",
      "Sp. Def : Defense\n",
      "Sp. Def : Sp. Atk\n",
      "Sp. Def : Sp. Def\n",
      "Sp. Def : Speed\n",
      "Speed : Name\n",
      "Speed : Total\n",
      "Speed : HP\n",
      "Speed : Attack\n",
      "Speed : Defense\n",
      "Speed : Sp. Atk\n",
      "Speed : Sp. Def\n",
      "Speed : Speed\n",
      "Sp. Def : Attack\n",
      "Equation: y = -0.65x + 120.49\n"
     ]
    },
    {
     "data": {
      "image/png": "[encoded data removed]",
      "text/plain": [
       "<Figure size 432x288 with 1 Axes>"
      ]
     },
     "metadata": {
      "needs_background": "light"
     },
     "output_type": "display_data"
    },
    {
     "data": {
      "image/png": "[encoded data removed]",
      "text/plain": [
       "<Figure size 432x288 with 1 Axes>"
      ]
     },
     "metadata": {
      "needs_background": "light"
     },
     "output_type": "display_data"
    },
    {
     "data": {
      "text/plain": [
       "LinregressResult(slope=-0.6450831645147493, intercept=120.48670072818834, rvalue=-0.5719879990539349, pvalue=2.6862414127743344e-66, stderr=0.033847069735152883)"
      ]
     },
     "execution_count": 80,
     "metadata": {},
     "output_type": "execute_result"
    }
   ],
   "source": [
    "# Compare stats(xAxis, yAxis, Is one of the columns \"Total\", \"#\", or \"Generation\"?)\n",
    "cols = df.columns\n",
    "cols = cols.drop(['Type_1', 'Type_2', 'Legendary', 'Generation', '#'])\n",
    "\n",
    "best_Relationship = ['', '', 0, 0]\n",
    "for Stat_1 in cols:\n",
    "    for Stat_2 in cols:\n",
    "        print(Stat_1 + \" : \" + Stat_2)\n",
    "        if (Stat_1 != Stat_2):\n",
    "            temp = compare_stats(Stat_1, Stat_2, False) \n",
    "            if (abs((temp.rvalue*2)/(1-abs(temp.slope))) >= abs((best_Relationship[2]*2)/(abs(1-abs(best_Relationship[3]))))):\n",
    "                best_Relationship[0] = Stat_1\n",
    "                best_Relationship[1] = Stat_2\n",
    "                best_Relationship[2] = temp.rvalue\n",
    "                best_Relationship[3] = temp.slope\n",
    "\n",
    "print(best_Relationship[0] + \" : \" + best_Relationship[1])\n",
    "compare_stats(best_Relationship[0], best_Relationship[1], True)"
   ]
  },
  {
   "cell_type": "code",
   "execution_count": 81,
   "metadata": {
    "scrolled": false
   },
   "outputs": [
    {
     "name": "stdout",
     "output_type": "stream",
     "text": [
      "Equation: y = -0.65x + 120.88\n"
     ]
    },
    {
     "data": {
      "image/png": "[encoded data removed]",
      "text/plain": [
       "<Figure size 432x288 with 1 Axes>"
      ]
     },
     "metadata": {
      "needs_background": "light"
     },
     "output_type": "display_data"
    },
    {
     "data": {
      "image/png": "[encoded data removed]",
      "text/plain": [
       "<Figure size 432x288 with 1 Axes>"
      ]
     },
     "metadata": {
      "needs_background": "light"
     },
     "output_type": "display_data"
    },
    {
     "data": {
      "text/plain": [
       "LinregressResult(slope=-0.6509638855924414, intercept=120.87998735059296, rvalue=-0.5643830945198817, pvalue=3.8784827873004544e-64, stderr=0.03486080446931319)"
      ]
     },
     "execution_count": 81,
     "metadata": {},
     "output_type": "execute_result"
    }
   ],
   "source": [
    "df = df.drop (212)\n",
    "compare_stats('Sp. Def', 'Attack', True)"
   ]
  },
  {
   "cell_type": "code",
   "execution_count": 13,
   "metadata": {},
   "outputs": [
    {
     "name": "stdout",
     "output_type": "stream",
     "text": [
      "9\n",
      "Equation: y = 0.43x + 4.58\n",
      "LinregressResult(slope=0.43004383805599855, intercept=4.580956067961133, rvalue=0.30726108320080364, pvalue=7.696688612406496e-18, stderr=0.048731617912246984)\n"
     ]
    },
    {
     "data": {
      "image/png": "[encoded data removed]",
      "text/plain": [
       "<Figure size 432x288 with 1 Axes>"
      ]
     },
     "metadata": {
      "needs_background": "light"
     },
     "output_type": "display_data"
    }
   ],
   "source": [
    "df_Adj = df.copy()\n",
    "count =  'Total'\n",
    "for i in range(len(df.Name)):\n",
    "    df_Adj.loc[i, 'Name'] = len(df['Name'][i])\n",
    "#df_Adj[\"#\"] = df[\"#\"]\n",
    "print(df_Adj['Name'][0])\n",
    "df_Adj[count] = df_Adj[count]/(df_Adj[count].mean())*(df_Adj.Name.mean())\n",
    "# get a vector of coefficents which minimize the error squared (function for the LSRL)\n",
    "fit = np.polyfit(df_Adj[count],df_Adj['Name'], 1)\n",
    "\n",
    "#  fit[0] represents the slope and fit[1] represents the y intercept \n",
    "print('Equation: y = '+str(round(fit[0], 2))+'x + '+str(round(fit[1], 2)))\n",
    "\n",
    "# calculate the y values based on the coefficients from the model\n",
    "r_x, r_y = zip(*((i, i*fit[0] + fit[1]) for i in df_Adj[count]))\n",
    "\n",
    "print  (str(linregress(df_Adj[count], df_Adj['Name'])))\n",
    "# put LSRL points into a data frame\n",
    "lm_original_plot = pd.DataFrame({\n",
    "    count : r_x,\n",
    "    'Name' : r_y\n",
    "})\n",
    "# setup axes so that the LSRL and the scatterplot show up on the same graph\n",
    "fig, axes = plt.subplots()\n",
    "\n",
    "# plot the original scatterplot and the LSRL\n",
    "df_Adj.plot(x=count, y='Name', kind = 'scatter', ax = axes, title='d')\n",
    "lm_original_plot.plot(x=count, y='Name', kind = 'line', ax=axes, color = 'red')\n",
    "\n",
    "plt.show()"
   ]
  },
  {
   "cell_type": "markdown",
   "metadata": {},
   "source": [
    "Equation: y = 0.18x + 6.62\n",
    "LinregressResult(slope=0.17678430209370682, intercept=6.616500001863665, rvalue=0.2713716947480774, pvalue=4.133873746085967e-14, stderr=0.02294077782540685)"
   ]
  },
  {
   "cell_type": "markdown",
   "metadata": {},
   "source": [
    "# Pokedex"
   ]
  },
  {
   "cell_type": "code",
   "execution_count": null,
   "metadata": {},
   "outputs": [],
   "source": []
  },
  {
   "cell_type": "code",
   "execution_count": 104,
   "metadata": {},
   "outputs": [],
   "source": [
    "def pokedex(iD, search):\n",
    "    for i in range(len(df[search])):\n",
    "        if df[search][i] == iD:\n",
    "            print (df.loc[i])\n",
    "            for k in range(4, 11):\n",
    "                print (df.columns[k] + \" z score = \" + str((df.iat[i, k]-df[df.columns[k]].mean())/df[df.columns[k]].std()))"
   ]
  },
  {
   "cell_type": "code",
   "execution_count": 105,
   "metadata": {},
   "outputs": [
    {
     "name": "stdout",
     "output_type": "stream",
     "text": [
      "#                 213\n",
      "Name          Shuckle\n",
      "Type_1            Bug\n",
      "Type_2           Rock\n",
      "Total             505\n",
      "HP                 20\n",
      "Attack             10\n",
      "Defense           230\n",
      "Sp. Atk            10\n",
      "Sp. Def           230\n",
      "Speed               5\n",
      "Generation          2\n",
      "Legendary       False\n",
      "Name: 212, dtype: object\n",
      "Total z score = 0.7387954962452237\n",
      "HP z score = -1.8738535024718463\n",
      "Attack z score = -2.2242306205400797\n",
      "Defense z score = 5.36771959411479\n",
      "Sp. Atk z score = -2.0057403634858217\n",
      "Sp. Def z score = 5.8721795679340465\n",
      "Speed z score = -2.2105292920216195\n"
     ]
    }
   ],
   "source": [
    "pokedex('Shuckle', 'Name')\n"
   ]
  },
  {
   "cell_type": "markdown",
   "metadata": {},
   "source": [
    "LinregressResult(slope=-0.6450831645147493, intercept=120.48670072818834, rvalue=-0.5719879990539349, pvalue=2.6862414127743344e-66, stderr=0.033847069735152883)\n",
    "\n",
    "LinregressResult(slope=-0.6509638855924414, intercept=120.87998735059296, rvalue=-0.5643830945198817, pvalue=3.8784827873004544e-64, stderr=0.03486080446931319)"
   ]
  }
 ],
 "metadata": {
  "kernelspec": {
   "display_name": "Python 3",
   "language": "python",
   "name": "python3"
  },
  "language_info": {
   "codemirror_mode": {
    "name": "ipython",
    "version": 3
   },
   "file_extension": ".py",
   "mimetype": "text/x-python",
   "name": "python",
   "nbconvert_exporter": "python",
   "pygments_lexer": "ipython3",
   "version": "3.6.6"
  }
 },
 "nbformat": 4,
 "nbformat_minor": 2
}
