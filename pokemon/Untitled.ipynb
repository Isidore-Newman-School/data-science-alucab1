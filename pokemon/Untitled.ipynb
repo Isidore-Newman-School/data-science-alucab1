{
 "cells": [
  {
   "cell_type": "markdown",
   "metadata": {},
   "source": [
    "# Relationships between stats in Pokemon"
   ]
  },
  {
   "cell_type": "markdown",
   "metadata": {},
   "source": [
    "Pandas Data Science Project 1\n",
    "\n",
    "Jenna deBoisblanc\n",
    "\n",
    "October 18, 2019\n",
    "\n",
    "Advanced Topics in Computer Science and Making\n",
    "\n",
    "Isidore Newman School"
   ]
  },
  {
   "cell_type": "markdown",
   "metadata": {},
   "source": [
    "# Abstract"
   ]
  },
  {
   "cell_type": "markdown",
   "metadata": {},
   "source": [
    "I used a dataset of all the pokemon from the first six generations of pokemon including the stats for each pokemon\n",
    "\n",
    "I created a function to determine the two stats with the strongest relationship based on r value and slope, and I found out that they were Special Defense and Attack.  \n",
    "\n",
    "This means that for pokemon with similar overall strength, ones with higher attack will typically have lower Special Defense and vise versa."
   ]
  },
  {
   "cell_type": "markdown",
   "metadata": {},
   "source": [
    "# Introduction"
   ]
  },
  {
   "attachments": {},
   "cell_type": "markdown",
   "metadata": {},
   "source": [
    "My research question was \"Which two stats have the strongest and most significant linear relationship?\"  I wanted to know because the answer to this question can explain how Nintendo balances pokemon in order make sure the game doesn't become to hard or easy.\n",
    "\n",
    "I got my dataset from https://www.kaggle.com/abcsds/pokemon. It is usefull because it gives all the stats for each pokemon allowing me to run an analysis on every possible relationship. \n",
    "\n",
    "------------------------------------------------------------------------------------------------------\n",
    "  /#        Name Type_1  Type_2  Total  HP  Attack  Defense  Sp. Atk  Sp. Def  \\\n",
    "0  1   Bulbasaur  Grass  Poison    318  45      49       49       65       65   \n",
    "   \n",
    "\n",
    "   Speed  Generation  Legendary  \n",
    "0     45           1      False  \n",
    "\n",
    "------------------------------------------------------------------------------------------------------\n",
    "The name, and types of a pokemon are strings, whether or not it is a legendary pokemon is save as a boolean, and all the stats in addition to its iD number and Generation number are intergers.\n",
    "\n",
    "If you want to know more about what each stat does visit this website: https://bulbapedia.bulbagarden.net/wiki/Statistic"
   ]
  },
  {
   "cell_type": "markdown",
   "metadata": {},
   "source": [
    "# Methods and Process"
   ]
  },
  {
   "cell_type": "markdown",
   "metadata": {},
   "source": [
    "I first made a function def compare_stats which takes any two stats columns and plot them against each other for each pokemon.\n",
    "Then I added a Least Squared Regression Line and line of code which tells me important statistical information such as the r \n",
    "value, and slope of the LSQR line.  Finally I used a for loop to call that function for every possible combination of stats and\n",
    "determine the one with the 'best' relationship.  When comparing the two I multiplied each stat by (its total/average total) \n",
    "because before I did that most relationship came out positive because as a pokemon gets stronger, all of its stats will see a \n",
    "general increase.  \n",
    "\n",
    "I returned the two varibles with the highest value of the coefficient of correlation divided by how difference between the slope and 1.\n",
    "\n",
    "I made a scatter plot with the LSQR line included to visualize the data using the two returned variables."
   ]
  },
  {
   "cell_type": "markdown",
   "metadata": {},
   "source": [
    "# Results"
   ]
  },
  {
   "cell_type": "code",
   "execution_count": 6,
   "metadata": {},
   "outputs": [],
   "source": [
    "import pandas as pd\n",
    "import numpy as np\n",
    "import matplotlib.pyplot as plt\n",
    "import math\n",
    "from scipy.stats import linregress\n",
    "\n",
    "df = pd.read_csv('Pokemon_nomega.csv')\n",
    "avg = df.Total.mean()\n",
    "\n",
    "%matplotlib notebook\n",
    "%matplotlib inline"
   ]
  },
  {
   "cell_type": "markdown",
   "metadata": {},
   "source": [
    "# Compare Stats"
   ]
  },
  {
   "cell_type": "code",
   "execution_count": 7,
   "metadata": {},
   "outputs": [],
   "source": [
    "def compare_stats(Stat_1, Stat_2, show):\n",
    "    df_Adj = df.copy()\n",
    "    # decide whether on not to multiply by avgtotal/total\n",
    "    if (Stat_1 == '#' or Stat_2 == '#'):\n",
    "        df_Adj[Stat_1] = df[Stat_1]\n",
    "        df_Adj[Stat_2] = df[Stat_2]\n",
    "        if (Stat_1 == 'Name'):\n",
    "            for i in range(len(df.Name)):\n",
    "                df_Adj.loc[i, 'Name'] = len(df['Name'][i])\n",
    "        elif (Stat_2 == 'Name'):\n",
    "            for i in range(len(df.Name)):\n",
    "                df_Adj.loc[i, 'Name'] = len(df['Name'][i])\n",
    "    else:\n",
    "        if (Stat_1 == 'Name'):\n",
    "            for i in range(len(df.Name)):\n",
    "                df_Adj.loc[i, 'Name'] = len(df['Name'][i])\n",
    "            df_Adj[Stat_2] = df[Stat_2]/df['Total']*avg\n",
    "        elif (Stat_2 == 'Name'):\n",
    "            df_Adj[Stat_1] = df[Stat_1]/df['Total']*avg\n",
    "            for i in range(len(df.Name)):\n",
    "                df_Adj.loc[i, 'Name'] = len(df['Name'][i])\n",
    "        else:\n",
    "            df_Adj[Stat_1] = df[Stat_1]/df['Total']*avg\n",
    "            df_Adj[Stat_2] = df[Stat_2]/df['Total']*avg\n",
    "    \n",
    "\n",
    "    # plot the original scatterplot and the LSRL\n",
    "    if show:\n",
    "        # get a vector of coefficents which minimize the error squared (function for the LSRL)\n",
    "        fit = np.polyfit(df_Adj[Stat_1],df_Adj[Stat_2], 1)\n",
    "\n",
    "        #  fit[0] represents the slope and fit[1] represents the y intercept \n",
    "        print('Equation: y = '+str(round(fit[0], 2))+'x + '+str(round(fit[1], 2)))\n",
    "\n",
    "        # calculate the y values based on the coefficients from the model\n",
    "        r_x, r_y = zip(*((i, i*fit[0] + fit[1]) for i in df_Adj[Stat_1]))\n",
    "    \n",
    "        # put LSRL points into a data frame\n",
    "        lm_original_plot = pd.DataFrame({\n",
    "        Stat_1 : r_x,\n",
    "        Stat_2 : r_y\n",
    "    })\n",
    "        \n",
    "        # setup axes so that the LSRL and the scatterplot show up on the same graph\n",
    "        fig, axes = plt.subplots()\n",
    "        \n",
    "        df_Adj.plot(x=Stat_1, y=Stat_2, kind = 'scatter', ax = axes, title=Stat_1 + ' vs. ' + Stat_2)\n",
    "        lm_original_plot.plot(x=Stat_1, y=Stat_2, kind = 'line', ax=axes, color = 'red')\n",
    "        linregress(df_Adj[Stat_1], df_Adj[Stat_2])\n",
    "        plt.show()\n",
    "    return (linregress(df_Adj[Stat_1], df_Adj[Stat_2]))"
   ]
  },
  {
   "cell_type": "markdown",
   "metadata": {},
   "source": [
    "# Compare All"
   ]
  },
  {
   "cell_type": "code",
   "execution_count": 8,
   "metadata": {},
   "outputs": [
    {
     "name": "stdout",
     "output_type": "stream",
     "text": [
      "Sp. Def : Attack\n",
      "Equation: y = -0.65x + 120.49\n"
     ]
    },
    {
     "data": {
      "image/png": "[encoded data removed]",
      "text/plain": [
       "<Figure size 432x288 with 1 Axes>"
      ]
     },
     "metadata": {
      "needs_background": "light"
     },
     "output_type": "display_data"
    },
    {
     "data": {
      "text/plain": [
       "LinregressResult(slope=-0.6450831645147493, intercept=120.48670072818834, rvalue=-0.5719879990539349, pvalue=2.6862414127743344e-66, stderr=0.033847069735152883)"
      ]
     },
     "execution_count": 8,
     "metadata": {},
     "output_type": "execute_result"
    }
   ],
   "source": [
    "# Compare stats(xAxis, yAxis, Is one of the columns \"Total\", \"#\", or \"Generation\"?)\n",
    "cols = df.columns\n",
    "cols = cols.drop(['Type_1', 'Type_2', 'Legendary', 'Generation', '#'])\n",
    "\n",
    "best_Relationship = ['', '', 0, 0]\n",
    "for Stat_1 in cols:\n",
    "    for Stat_2 in cols:\n",
    "        if (Stat_1 != Stat_2):\n",
    "            temp = compare_stats(Stat_1, Stat_2, False) \n",
    "            if (abs((temp.rvalue*2)/(1-abs(temp.slope))) >= abs((best_Relationship[2]*2)/(abs(1-abs(best_Relationship[3]))))):\n",
    "                best_Relationship[0] = Stat_1\n",
    "                best_Relationship[1] = Stat_2\n",
    "                best_Relationship[2] = temp.rvalue\n",
    "                best_Relationship[3] = temp.slope\n",
    "\n",
    "print(best_Relationship[0] + \" : \" + best_Relationship[1])\n",
    "compare_stats(best_Relationship[0], best_Relationship[1], True)"
   ]
  },
  {
   "cell_type": "code",
   "execution_count": 9,
   "metadata": {},
   "outputs": [
    {
     "name": "stdout",
     "output_type": "stream",
     "text": [
      "Equation: y = 0.21x + 60.82\n"
     ]
    },
    {
     "data": {
      "image/png": "[encoded data removed]",
      "text/plain": [
       "<Figure size 432x288 with 1 Axes>"
      ]
     },
     "metadata": {
      "needs_background": "light"
     },
     "output_type": "display_data"
    },
    {
     "data": {
      "text/plain": [
       "LinregressResult(slope=0.2137890874853579, intercept=60.8237146127237, rvalue=0.19696207768121501, pvalue=5.487252649589698e-08, stderr=0.038935955674491374)"
      ]
     },
     "execution_count": 9,
     "metadata": {},
     "output_type": "execute_result"
    }
   ],
   "source": [
    "def compare_stats2(Stat_1, Stat_2, show):\n",
    "    df_Adj = df.copy()\n",
    "    if (Stat_1 == '#' or Stat_2 == '#'):\n",
    "        df_Adj[Stat_1] = df[Stat_1]\n",
    "        df_Adj[Stat_2] = df[Stat_2]\n",
    "        if (Stat_1 == 'Name'):\n",
    "            for i in range(len(df.Name)):\n",
    "                df_Adj.loc[i, 'Name'] = len(df['Name'][i])\n",
    "        elif (Stat_2 == 'Name'):\n",
    "            for i in range(len(df.Name)):\n",
    "                df_Adj.loc[i, 'Name'] = len(df['Name'][i])\n",
    "    else:\n",
    "        if (Stat_1 == 'Name'):\n",
    "            for i in range(len(df.Name)):\n",
    "                df_Adj.loc[i, 'Name'] = len(df['Name'][i])\n",
    "            df_Adj[Stat_2] = df[Stat_2]\n",
    "        elif (Stat_2 == 'Name'):\n",
    "            df_Adj[Stat_1] = df[Stat_1]\n",
    "            for i in range(len(df.Name)):\n",
    "                df_Adj.loc[i, 'Name'] = len(df['Name'][i])\n",
    "        else:\n",
    "            df_Adj[Stat_1] = df[Stat_1]\n",
    "            df_Adj[Stat_2] = df[Stat_2]\n",
    "    \n",
    "\n",
    "    # plot the original scatterplot and the LSRL\n",
    "    if show:\n",
    "        # get a vector of coefficents which minimize the error squared (function for the LSRL)\n",
    "        fit = np.polyfit(df_Adj[Stat_1],df_Adj[Stat_2], 1)\n",
    "\n",
    "        #  fit[0] represents the slope and fit[1] represents the y intercept \n",
    "        print('Equation: y = '+str(round(fit[0], 2))+'x + '+str(round(fit[1], 2)))\n",
    "\n",
    "        # calculate the y values based on the coefficients from the model\n",
    "        r_x, r_y = zip(*((i, i*fit[0] + fit[1]) for i in df_Adj[Stat_1]))\n",
    "    \n",
    "        # put LSRL points into a data frame\n",
    "        lm_original_plot = pd.DataFrame({\n",
    "        Stat_1 : r_x,\n",
    "        Stat_2 : r_y\n",
    "    })\n",
    "        \n",
    "        # setup axes so that the LSRL and the scatterplot show up on the same graph\n",
    "        fig, axes = plt.subplots()\n",
    "        \n",
    "        df_Adj.plot(x=Stat_1, y=Stat_2, kind = 'scatter', ax = axes, title=Stat_1 + ' vs. ' + Stat_2)\n",
    "        lm_original_plot.plot(x=Stat_1, y=Stat_2, kind = 'line', ax=axes, color = 'red')\n",
    "        linregress(df_Adj[Stat_1], df_Adj[Stat_2])\n",
    "        plt.show()\n",
    "    return (linregress(df_Adj[Stat_1], df_Adj[Stat_2]))\n",
    "compare_stats2(best_Relationship[0], best_Relationship[1], True)"
   ]
  },
  {
   "cell_type": "markdown",
   "metadata": {},
   "source": [
    "# Discussion"
   ]
  },
  {
   "cell_type": "markdown",
   "metadata": {},
   "source": [
    "According to my program, the strongest relationship is betweeen Special Defense and Attack.  This means that for every pokemon with similar total stats, ones with higher attack have a greater probability of having a lower Special Defense. \n",
    "\n",
    "Nintendo most likely did this intentionally because if a pokemon doesn't have any weaknesses in either damage output or survivability, they would be overpowered leading to the game not being as fun. \n",
    "\n",
    "Knowing what I know now, I wouldn't have bothered with finding the relationship between name length and other stats.  It was fun, but it also took up alot of time and did not yield a very significant result. \n",
    "\n",
    "An ideal dataset would have included the most recent generation of pokemon (there are 7 and this datseeet only has the first 6).\n",
    "I am unsure of what difference this would make, but it would be interesting to see if there is one."
   ]
  }
 ],
 "metadata": {
  "kernelspec": {
   "display_name": "Python 3",
   "language": "python",
   "name": "python3"
  },
  "language_info": {
   "codemirror_mode": {
    "name": "ipython",
    "version": 3
   },
   "file_extension": ".py",
   "mimetype": "text/x-python",
   "name": "python",
   "nbconvert_exporter": "python",
   "pygments_lexer": "ipython3",
   "version": "3.6.6"
  }
 },
 "nbformat": 4,
 "nbformat_minor": 2
}
