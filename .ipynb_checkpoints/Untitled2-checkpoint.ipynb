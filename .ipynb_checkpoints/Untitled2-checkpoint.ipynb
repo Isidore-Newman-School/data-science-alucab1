{
 "cells": [
  {
   "cell_type": "markdown",
   "metadata": {},
   "source": [
    "# Pandas"
   ]
  },
  {
   "cell_type": "code",
   "execution_count": 3,
   "metadata": {},
   "outputs": [],
   "source": [
    "import pandas as pd\n",
    "import matplotlib.pyplot as plt\n",
    "from matplotlib import style\n",
    "style.use('ggplot')\n",
    "\n",
    "#import stuff"
   ]
  },
  {
   "cell_type": "code",
   "execution_count": 6,
   "metadata": {},
   "outputs": [
    {
     "name": "stdout",
     "output_type": "stream",
     "text": [
      "   Day  Visitors  Bounce Rate\n",
      "0    1        43           65\n",
      "1    2        34           67\n",
      "2    3        65           78\n",
      "3    4        56           65\n",
      "4    5        29           45\n",
      "   Day  Visitors  Bounce Rate\n",
      "1    2        34           67\n",
      "2    3        65           78\n",
      "3    4        56           65\n",
      "4    5        29           45\n",
      "5    6        76           52\n",
      "   Day  Visitors  Bounce Rate\n",
      "4    5        29           45\n",
      "5    6        76           52\n"
     ]
    }
   ],
   "source": [
    "web_stats = {'Day':[1,2,3,4,5,6],\n",
    "             'Visitors':[43,34,65,56,29,76],\n",
    "             'Bounce Rate':[65,67,78,65,45,52]}\n",
    "\n",
    "# define dataset\n",
    "\n",
    "df = pd.DataFrame(web_stats)\n",
    "\n",
    "print(df.head())\n",
    "print(df.tail())\n",
    "print(df.tail(2))\n",
    "\n",
    "# print first and last few lines of dataset"
   ]
  },
  {
   "cell_type": "code",
   "execution_count": 7,
   "metadata": {},
   "outputs": [
    {
     "name": "stdout",
     "output_type": "stream",
     "text": [
      "     Visitors  Bounce Rate\n",
      "Day                       \n",
      "1          43           65\n",
      "2          34           67\n",
      "3          65           78\n",
      "4          56           65\n",
      "5          29           45\n"
     ]
    }
   ],
   "source": [
    "df.set_index('Day', inplace=True)\n",
    "\n",
    "# set day as primary value\n",
    "\n",
    "print(df.head())"
   ]
  },
  {
   "cell_type": "code",
   "execution_count": null,
   "metadata": {},
   "outputs": [],
   "source": []
  }
 ],
 "metadata": {
  "kernelspec": {
   "display_name": "Python 3",
   "language": "python",
   "name": "python3"
  },
  "language_info": {
   "codemirror_mode": {
    "name": "ipython",
    "version": 3
   },
   "file_extension": ".py",
   "mimetype": "text/x-python",
   "name": "python",
   "nbconvert_exporter": "python",
   "pygments_lexer": "ipython3",
   "version": "3.6.6"
  }
 },
 "nbformat": 4,
 "nbformat_minor": 2
}
