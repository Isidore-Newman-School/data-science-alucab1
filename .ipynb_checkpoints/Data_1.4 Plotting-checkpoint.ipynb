{
 "cells": [
  {
   "cell_type": "markdown",
   "metadata": {},
   "source": [
    "#  Data_1.4 Plotting"
   ]
  },
  {
   "cell_type": "markdown",
   "metadata": {},
   "source": [
    "# Setup"
   ]
  },
  {
   "cell_type": "code",
   "execution_count": 35,
   "metadata": {},
   "outputs": [
    {
     "name": "stdout",
     "output_type": "stream",
     "text": [
      "                           calories  protein  fat  sodium  fiber  carbo  \\\n",
      "name                                                                      \n",
      "100% Bran                        70        4    1     130   10.0    5.0   \n",
      "100% Natural Bran               120        3    5      15    2.0    8.0   \n",
      "All-Bran                         70        4    1     260    9.0    7.0   \n",
      "All-Bran with Extra Fiber        50        4    0     140   14.0    8.0   \n",
      "Almond Delight                  110        2    2     200    1.0   14.0   \n",
      "\n",
      "                           sugars  potass  vitamins  shelf  weight  cups  \\\n",
      "name                                                                       \n",
      "100% Bran                       6     280        25      3     1.0  0.33   \n",
      "100% Natural Bran               8     135         0      3     1.0  1.00   \n",
      "All-Bran                        5     320        25      3     1.0  0.33   \n",
      "All-Bran with Extra Fiber       0     330        25      3     1.0  0.50   \n",
      "Almond Delight                  8      -1        25      3     1.0  0.75   \n",
      "\n",
      "                              rating  \n",
      "name                                  \n",
      "100% Bran                  68.402973  \n",
      "100% Natural Bran          33.983679  \n",
      "All-Bran                   59.425505  \n",
      "All-Bran with Extra Fiber  93.704912  \n",
      "Almond Delight             34.384843  \n"
     ]
    }
   ],
   "source": [
    "# Importing necessary libraries\n",
    "import pandas as pd\n",
    "import numpy as np\n",
    "import matplotlib.pyplot as plt\n",
    "\n",
    "# Getting and setting up dataset\n",
    "df = pd.read_csv('Cereal Data - Sheet1.csv')\n",
    "df.set_index('name', inplace=True)\n",
    "\n",
    "%matplotlib notebook\n",
    "%matplotlib inline\n",
    "\n",
    "#print first 5 items of each column in the dataset\n",
    "print(df.head())"
   ]
  },
  {
   "cell_type": "markdown",
   "metadata": {
    "scrolled": true
   },
   "source": [
    "# Scatterplot of Sugars vs. Calories"
   ]
  },
  {
   "cell_type": "code",
   "execution_count": 36,
   "metadata": {},
   "outputs": [
    {
     "data": {
      "image/png": "[encoded data removed]",
      "text/plain": [
       "<Figure size 432x288 with 1 Axes>"
      ]
     },
     "metadata": {
      "needs_background": "light"
     },
     "output_type": "display_data"
    }
   ],
   "source": [
    "df.plot('sugars', 'calories', kind = 'scatter');"
   ]
  },
  {
   "cell_type": "markdown",
   "metadata": {},
   "source": [
    "# Histogram Plot of Sodium Amounts "
   ]
  },
  {
   "cell_type": "code",
   "execution_count": 37,
   "metadata": {
    "scrolled": true
   },
   "outputs": [
    {
     "data": {
      "text/plain": [
       "array([[<matplotlib.axes._subplots.AxesSubplot object at 0x00000213BB54A908>]],\n",
       "      dtype=object)"
      ]
     },
     "execution_count": 37,
     "metadata": {},
     "output_type": "execute_result"
    },
    {
     "data": {
      "image/png": "[encoded data removed]",
      "text/plain": [
       "<Figure size 432x288 with 1 Axes>"
      ]
     },
     "metadata": {
      "needs_background": "light"
     },
     "output_type": "display_data"
    }
   ],
   "source": [
    "df.hist(column = 'sodium')"
   ]
  },
  {
   "cell_type": "markdown",
   "metadata": {},
   "source": [
    "# LSRL Fit to the Scatterplot of Sugars vs. Calories"
   ]
  },
  {
   "cell_type": "code",
   "execution_count": 40,
   "metadata": {},
   "outputs": [
    {
     "name": "stdout",
     "output_type": "stream",
     "text": [
      "Equation: y = 2.47x + 89.82\n"
     ]
    },
    {
     "data": {
      "image/png": "[encoded data removed]",
      "text/plain": [
       "<Figure size 432x288 with 1 Axes>"
      ]
     },
     "metadata": {
      "needs_background": "light"
     },
     "output_type": "display_data"
    }
   ],
   "source": [
    "# get a vector of coefficents which minimize the error squared (function for the LSRL)\n",
    "fit = np.polyfit(df.sugars,df.calories, 1)\n",
    "\n",
    "#  fit[0] represents the slope and fit[1] represents the y intercept \n",
    "print('Equation: y = '+str(round(fit[0], 2))+'x + '+str(round(fit[1], 2)))\n",
    "\n",
    "# calculate the y values based on the coefficients from the model\n",
    "r_x, r_y = zip(*((i, i*fit[0] + fit[1]) for i in df.sugars))\n",
    " \n",
    "# put LSRL points into a data frame\n",
    "lm_original_plot = pd.DataFrame({\n",
    "'sugars' : r_x,\n",
    "'calories' : r_y\n",
    "})\n",
    "\n",
    "# setup axes so that the LSRL and the scatterplot show up on the same graph\n",
    "fig, axes = plt.subplots()\n",
    "\n",
    "# plot the original scatterplot and the LSRL\n",
    "df.plot(x='sugars', y='calories', kind = 'scatter', ax = axes, title='Original Values')\n",
    "lm_original_plot.plot(x='sugars', y='calories', kind = 'line', ax=axes, color = 'red')\n",
    "\n",
    "plt.show()"
   ]
  },
  {
   "cell_type": "markdown",
   "metadata": {},
   "source": [
    "# Barplot of Sugars vs. Calories in 10 Random Foods "
   ]
  },
  {
   "cell_type": "code",
   "execution_count": 39,
   "metadata": {},
   "outputs": [
    {
     "data": {
      "text/plain": [
       "<matplotlib.axes._subplots.AxesSubplot at 0x213bb5a70f0>"
      ]
     },
     "execution_count": 39,
     "metadata": {},
     "output_type": "execute_result"
    },
    {
     "data": {
      "image/png": "[encoded data removed]",
      "text/plain": [
       "<Figure size 432x288 with 1 Axes>"
      ]
     },
     "metadata": {
      "needs_background": "light"
     },
     "output_type": "display_data"
    }
   ],
   "source": [
    "df.sample(10).plot(x = 'sugars', y = 'calories', kind = 'bar',title = 'Calories', color = 'blue')\n"
   ]
  }
 ],
 "metadata": {
  "kernelspec": {
   "display_name": "Python 3",
   "language": "python",
   "name": "python3"
  },
  "language_info": {
   "codemirror_mode": {
    "name": "ipython",
    "version": 3
   },
   "file_extension": ".py",
   "mimetype": "text/x-python",
   "name": "python",
   "nbconvert_exporter": "python",
   "pygments_lexer": "ipython3",
   "version": "3.6.6"
  }
 },
 "nbformat": 4,
 "nbformat_minor": 2
}
